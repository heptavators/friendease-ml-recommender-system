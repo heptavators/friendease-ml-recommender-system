{
 "cells": [
  {
   "cell_type": "code",
   "execution_count": 1,
   "metadata": {},
   "outputs": [],
   "source": [
    "import pandas as pd\n",
    "import numpy as np"
   ]
  },
  {
   "cell_type": "code",
   "execution_count": 2,
   "metadata": {},
   "outputs": [],
   "source": [
    "df_list = pd.read_html('https://id.wikipedia.org/wiki/Daftar_kabupaten_dan_kota_di_Indonesia')"
   ]
  },
  {
   "cell_type": "code",
   "execution_count": 3,
   "metadata": {},
   "outputs": [],
   "source": [
    "provinsi = df_list[0]['Provinsi'].values[:-1]"
   ]
  },
  {
   "cell_type": "code",
   "execution_count": 4,
   "metadata": {},
   "outputs": [],
   "source": [
    "city_state = df_list[1:39]"
   ]
  },
  {
   "cell_type": "code",
   "execution_count": 5,
   "metadata": {},
   "outputs": [],
   "source": [
    "location_df = pd.DataFrame(columns=[\"Provinsi\", \"Kota/Kabupaten\", \"Lokasi\"])\n",
    "\n",
    "\n",
    "for i in range(len(city_state)):\n",
    "\n",
    "    cistat = list(\n",
    "        map(\n",
    "\n",
    "            lambda city: \" \".join(city.split()[1:]),\n",
    "            city_state[i][\n",
    "                city_state[i][city_state[i].columns[1]].str.contains(\"kota\", case=False)\n",
    "            ][city_state[i].columns[1]].values,\n",
    "        )\n",
    "    )\n",
    "\n",
    "    cistat = list(filter(lambda city: len(city) > 0, cistat))\n",
    "\n",
    "\n",
    "    for cis in cistat:\n",
    "        location_df.loc[len(location_df)] = [provinsi[i], cis, f\"{provinsi[i]}, {cis}\"]"
   ]
  },
  {
   "cell_type": "code",
   "execution_count": 6,
   "metadata": {},
   "outputs": [],
   "source": [
    "location_df.to_csv('../data/location.csv')"
   ]
  },
  {
   "cell_type": "code",
   "execution_count": null,
   "metadata": {},
   "outputs": [],
   "source": []
  }
 ],
 "metadata": {
  "kernelspec": {
   "display_name": "base",
   "language": "python",
   "name": "python3"
  },
  "language_info": {
   "codemirror_mode": {
    "name": "ipython",
    "version": 3
   },
   "file_extension": ".py",
   "mimetype": "text/x-python",
   "name": "python",
   "nbconvert_exporter": "python",
   "pygments_lexer": "ipython3",
   "version": "3.9.12"
  }
 },
 "nbformat": 4,
 "nbformat_minor": 2
}
